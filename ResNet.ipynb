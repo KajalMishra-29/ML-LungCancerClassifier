{
  "cells": [
    {
      "cell_type": "markdown",
      "metadata": {
        "id": "view-in-github",
        "colab_type": "text"
      },
      "source": [
        "<a href=\"https://colab.research.google.com/github/KajalMishra-29/ML-LungCancerClassifier/blob/main/ResNet.ipynb\" target=\"_parent\"><img src=\"https://colab.research.google.com/assets/colab-badge.svg\" alt=\"Open In Colab\"/></a>"
      ]
    },
    {
      "cell_type": "code",
      "execution_count": null,
      "metadata": {
        "colab": {
          "base_uri": "https://localhost:8080/"
        },
        "id": "e2RXWVcIPOzh",
        "outputId": "0d3048fe-7c0d-43a8-a497-3056b4025826"
      },
      "outputs": [
        {
          "output_type": "stream",
          "name": "stdout",
          "text": [
            "Mounted at /content/drive\n"
          ]
        }
      ],
      "source": [
        "from google.colab import drive\n",
        "drive.mount('/content/drive')"
      ]
    },
    {
      "cell_type": "code",
      "source": [
        "import numpy as np\n",
        "# Load your data\n",
        "X_train_feature= np.load('/content/drive/MyDrive/Nodule_detection/feature_train.npy')\n",
        "Y_train = np.load('/content/drive/MyDrive/Nodule_detection/y_train.npy')\n",
        "X_val_feature = np.load('/content/drive/MyDrive/Nodule_detection/feature_val.npy')\n",
        "Y_val = np.load('/content/drive/MyDrive/Nodule_detection/y_val.npy')\n",
        "X_test_feature= np.load('/content/drive/MyDrive/Nodule_detection/feature_test.npy')\n",
        "Y_test = np.load('/content/drive/MyDrive/Nodule_detection/y_test.npy')\n",
        "\n",
        "print(X_train_feature.shape)\n",
        "print(Y_train.shape)\n",
        "print(X_val_feature.shape)\n",
        "print(Y_val.shape)\n",
        "print(X_test_feature.shape)\n",
        "print(Y_test.shape)\n",
        "\n",
        "\n",
        "# Convert the masks to labels\n",
        "def convert_masks_to_labels(masks):\n",
        "    # Check if there's any pixel with value 1 in the mask\n",
        "    return np.where(np.sum(masks, axis=(1, 2)) > 0, 1, 0)\n",
        "\n",
        "# Reshape Y data\n",
        "Y_train_labels = convert_masks_to_labels(Y_train)  # Shape will be (1090,)\n",
        "Y_val_labels = convert_masks_to_labels(Y_val)      # Shape will be (234,)\n",
        "Y_test_labels = convert_masks_to_labels(Y_test)    # Shape will be (234,)\n",
        "\n",
        "# Print the new shapes\n",
        "print(Y_train_labels.shape)  # Should print (1090,)\n",
        "print(Y_val_labels.shape)    # Should print (234,)\n",
        "print(Y_test_labels.shape)   # Should print (234,)"
      ],
      "metadata": {
        "colab": {
          "base_uri": "https://localhost:8080/"
        },
        "id": "hSJSO-QKO-rd",
        "outputId": "fb94e149-3754-43ab-e05e-68e2f1dbd3be"
      },
      "execution_count": null,
      "outputs": [
        {
          "output_type": "stream",
          "name": "stdout",
          "text": [
            "(1090, 28, 28, 512)\n",
            "(1090, 224, 224, 1)\n",
            "(234, 28, 28, 512)\n",
            "(234, 224, 224, 1)\n",
            "(234, 28, 28, 512)\n",
            "(234, 224, 224, 1)\n",
            "(1090, 1)\n",
            "(234, 1)\n",
            "(234, 1)\n"
          ]
        }
      ]
    },
    {
      "cell_type": "code",
      "source": [
        "import numpy as np\n",
        "from tensorflow.keras.applications import ResNet50\n",
        "from tensorflow.keras.layers import Flatten, Dense,Dropout, Input\n",
        "from tensorflow.keras.models import Model\n",
        "from tensorflow.keras.optimizers import Adam\n",
        "from tensorflow.keras.callbacks import EarlyStopping\n",
        "\n",
        "# Define the input shape based on your feature map\n",
        "input_shape = (28, 28, 512)  # Adjust if necessary\n",
        "\n",
        "# Build the ResNet model for classification\n",
        "def build_resnet_classification_model(input_shape):\n",
        "    inputs = Input(shape=input_shape)\n",
        "\n",
        "    # Use ResNet50 as a base model without the top classification layer\n",
        "    base_model = ResNet50(weights=None, include_top=False, input_tensor=inputs)\n",
        "\n",
        "    x = Flatten()(base_model.output)\n",
        "    x = Dense(256, activation='relu')(x)\n",
        "    outputs = Dense(1, activation='sigmoid')(x)  # For binary classification\n",
        "    model = Model(inputs=base_model.input, outputs=outputs)\n",
        "    return model\n",
        "\n",
        "\n",
        "model = build_resnet_classification_model(input_shape)\n",
        "model.compile(optimizer=Adam(), loss='binary_crossentropy', metrics=['accuracy'])\n",
        "\n",
        "# Early Stopping\n",
        "early_stopping = EarlyStopping(\n",
        "    monitor='val_loss',\n",
        "    patience=5,\n",
        "    verbose=1,\n",
        "    restore_best_weights=True\n",
        ")\n",
        "\n",
        "# Train the model using the binary labels\n",
        "# using data generator\n",
        "model.fit(X_train_feature, Y_train_labels, batch_size=8,\n",
        "          validation_data=(X_val_feature, Y_val_labels),\n",
        "          epochs=15,\n",
        "          shuffle=True,\n",
        "\n",
        "          )"
      ],
      "metadata": {
        "colab": {
          "base_uri": "https://localhost:8080/"
        },
        "id": "TteFw5f6YFTf",
        "outputId": "6911ceaa-42e3-4bee-c414-e213e3c61c8e"
      },
      "execution_count": null,
      "outputs": [
        {
          "output_type": "stream",
          "name": "stdout",
          "text": [
            "Epoch 1/15\n",
            "\u001b[1m137/137\u001b[0m \u001b[32m━━━━━━━━━━━━━━━━━━━━\u001b[0m\u001b[37m\u001b[0m \u001b[1m77s\u001b[0m 212ms/step - accuracy: 0.8653 - loss: 0.8075 - val_accuracy: 0.9872 - val_loss: 0.3599\n",
            "Epoch 2/15\n",
            "\u001b[1m137/137\u001b[0m \u001b[32m━━━━━━━━━━━━━━━━━━━━\u001b[0m\u001b[37m\u001b[0m \u001b[1m6s\u001b[0m 42ms/step - accuracy: 0.9179 - loss: 0.2032 - val_accuracy: 0.5385 - val_loss: 1.8748\n",
            "Epoch 3/15\n",
            "\u001b[1m137/137\u001b[0m \u001b[32m━━━━━━━━━━━━━━━━━━━━\u001b[0m\u001b[37m\u001b[0m \u001b[1m6s\u001b[0m 42ms/step - accuracy: 0.9727 - loss: 0.1034 - val_accuracy: 0.7564 - val_loss: 0.8153\n",
            "Epoch 4/15\n",
            "\u001b[1m137/137\u001b[0m \u001b[32m━━━━━━━━━━━━━━━━━━━━\u001b[0m\u001b[37m\u001b[0m \u001b[1m11s\u001b[0m 46ms/step - accuracy: 0.9700 - loss: 0.1120 - val_accuracy: 0.6624 - val_loss: 1.1078\n",
            "Epoch 5/15\n",
            "\u001b[1m137/137\u001b[0m \u001b[32m━━━━━━━━━━━━━━━━━━━━\u001b[0m\u001b[37m\u001b[0m \u001b[1m10s\u001b[0m 41ms/step - accuracy: 0.9575 - loss: 0.1511 - val_accuracy: 0.9316 - val_loss: 0.2355\n",
            "Epoch 6/15\n",
            "\u001b[1m137/137\u001b[0m \u001b[32m━━━━━━━━━━━━━━━━━━━━\u001b[0m\u001b[37m\u001b[0m \u001b[1m10s\u001b[0m 40ms/step - accuracy: 0.9332 - loss: 0.2138 - val_accuracy: 0.8590 - val_loss: 2.0577\n",
            "Epoch 7/15\n",
            "\u001b[1m137/137\u001b[0m \u001b[32m━━━━━━━━━━━━━━━━━━━━\u001b[0m\u001b[37m\u001b[0m \u001b[1m6s\u001b[0m 45ms/step - accuracy: 0.9824 - loss: 0.0715 - val_accuracy: 1.0000 - val_loss: 0.0024\n",
            "Epoch 8/15\n",
            "\u001b[1m137/137\u001b[0m \u001b[32m━━━━━━━━━━━━━━━━━━━━\u001b[0m\u001b[37m\u001b[0m \u001b[1m10s\u001b[0m 41ms/step - accuracy: 0.9743 - loss: 0.0885 - val_accuracy: 1.0000 - val_loss: 0.0100\n",
            "Epoch 9/15\n",
            "\u001b[1m137/137\u001b[0m \u001b[32m━━━━━━━━━━━━━━━━━━━━\u001b[0m\u001b[37m\u001b[0m \u001b[1m10s\u001b[0m 41ms/step - accuracy: 0.9781 - loss: 0.0799 - val_accuracy: 1.0000 - val_loss: 0.0212\n",
            "Epoch 10/15\n",
            "\u001b[1m137/137\u001b[0m \u001b[32m━━━━━━━━━━━━━━━━━━━━\u001b[0m\u001b[37m\u001b[0m \u001b[1m6s\u001b[0m 44ms/step - accuracy: 0.9707 - loss: 0.1020 - val_accuracy: 1.0000 - val_loss: 0.0057\n",
            "Epoch 11/15\n",
            "\u001b[1m137/137\u001b[0m \u001b[32m━━━━━━━━━━━━━━━━━━━━\u001b[0m\u001b[37m\u001b[0m \u001b[1m10s\u001b[0m 40ms/step - accuracy: 0.9702 - loss: 0.1101 - val_accuracy: 1.0000 - val_loss: 0.0040\n",
            "Epoch 12/15\n",
            "\u001b[1m137/137\u001b[0m \u001b[32m━━━━━━━━━━━━━━━━━━━━\u001b[0m\u001b[37m\u001b[0m \u001b[1m10s\u001b[0m 40ms/step - accuracy: 0.9754 - loss: 0.0632 - val_accuracy: 0.6410 - val_loss: 0.8259\n",
            "Epoch 13/15\n",
            "\u001b[1m137/137\u001b[0m \u001b[32m━━━━━━━━━━━━━━━━━━━━\u001b[0m\u001b[37m\u001b[0m \u001b[1m10s\u001b[0m 41ms/step - accuracy: 0.9540 - loss: 0.1374 - val_accuracy: 0.9573 - val_loss: 0.1312\n",
            "Epoch 14/15\n",
            "\u001b[1m137/137\u001b[0m \u001b[32m━━━━━━━━━━━━━━━━━━━━\u001b[0m\u001b[37m\u001b[0m \u001b[1m11s\u001b[0m 46ms/step - accuracy: 0.9705 - loss: 0.1075 - val_accuracy: 0.9829 - val_loss: 0.0809\n",
            "Epoch 15/15\n",
            "\u001b[1m137/137\u001b[0m \u001b[32m━━━━━━━━━━━━━━━━━━━━\u001b[0m\u001b[37m\u001b[0m \u001b[1m6s\u001b[0m 40ms/step - accuracy: 0.9289 - loss: 0.1746 - val_accuracy: 0.9359 - val_loss: 0.1845\n"
          ]
        },
        {
          "output_type": "execute_result",
          "data": {
            "text/plain": [
              "<keras.src.callbacks.history.History at 0x7ab809c53130>"
            ]
          },
          "metadata": {},
          "execution_count": 6
        }
      ]
    },
    {
      "cell_type": "code",
      "source": [
        "# Evaluate the model on the test set\n",
        "model.evaluate(X_test_feature, Y_test_labels)"
      ],
      "metadata": {
        "colab": {
          "base_uri": "https://localhost:8080/"
        },
        "id": "Sv9U4WhcOfj5",
        "outputId": "8134b50d-b3e3-4190-a406-064a175c7cf1"
      },
      "execution_count": null,
      "outputs": [
        {
          "output_type": "stream",
          "name": "stdout",
          "text": [
            "\u001b[1m8/8\u001b[0m \u001b[32m━━━━━━━━━━━━━━━━━━━━\u001b[0m\u001b[37m\u001b[0m \u001b[1m3s\u001b[0m 200ms/step - accuracy: 0.8779 - loss: 0.3768\n"
          ]
        },
        {
          "output_type": "execute_result",
          "data": {
            "text/plain": [
              "[0.311199814081192, 0.8974359035491943]"
            ]
          },
          "metadata": {},
          "execution_count": 7
        }
      ]
    },
    {
      "cell_type": "code",
      "source": [
        "import numpy as np\n",
        "import matplotlib.pyplot as plt\n",
        "import seaborn as sns\n",
        "from sklearn.metrics import confusion_matrix\n",
        "\n",
        "# Step 1: Make predictions\n",
        "Y_pred_probs = model.predict(X_test_feature)\n",
        "Y_pred = (Y_pred_probs > 0.5).astype(int)  # Convert probabilities to binary predictions\n",
        "\n",
        "# Step 2: Calculate the confusion matrix\n",
        "cm = confusion_matrix(Y_test_labels, Y_pred)\n",
        "\n",
        "# Step 3: Plot the confusion matrix\n",
        "plt.figure(figsize=(8, 6))\n",
        "sns.heatmap(cm, annot=True, fmt='d', cmap='Blues',\n",
        "            xticklabels=['Class 0', 'Class 1'],\n",
        "            yticklabels=['Class 0', 'Class 1'])\n",
        "plt.xlabel('Predicted Labels')\n",
        "plt.ylabel('True Labels')\n",
        "plt.title('Confusion Matrix')\n",
        "plt.show()"
      ],
      "metadata": {
        "colab": {
          "base_uri": "https://localhost:8080/",
          "height": 581
        },
        "id": "IvhWq2eWqovU",
        "outputId": "60eb7601-4a29-4b04-f92a-188c9e6120d6"
      },
      "execution_count": null,
      "outputs": [
        {
          "output_type": "stream",
          "name": "stdout",
          "text": [
            "\u001b[1m8/8\u001b[0m \u001b[32m━━━━━━━━━━━━━━━━━━━━\u001b[0m\u001b[37m\u001b[0m \u001b[1m7s\u001b[0m 423ms/step\n"
          ]
        },
        {
          "output_type": "display_data",
          "data": {
            "text/plain": [
              "<Figure size 800x600 with 2 Axes>"
            ],
            "image/png": "[encoded data removed]"
          },
          "metadata": {}
        }
      ]
    },
    {
      "cell_type": "markdown",
      "metadata": {
        "id": "imP9Ui38w8Ad"
      },
      "source": []
    },
    {
      "cell_type": "code",
      "source": [
        "import matplotlib.pyplot as plt\n",
        "# Plotting accuracy vs. epoch and loss vs. epoch for both training and validation\n",
        "# Access the history object returned by model.fit()\n",
        "\n",
        "# Plot Accuracy vs Epoch\n",
        "plt.figure(figsize=(12, 6))\n",
        "\n",
        "plt.subplot(1, 2, 1)\n",
        "plt.plot(history_dict['accuracy'], label='Train Accuracy')\n",
        "plt.plot(history_dict['val_accuracy'], label='Validation Accuracy')\n",
        "plt.title('Accuracy vs Epoch')\n",
        "plt.xlabel('Epoch')\n",
        "plt.ylabel('Accuracy')\n",
        "plt.legend()\n",
        "\n",
        "# Plot Loss vs Epoch\n",
        "plt.subplot(1, 2, 2)\n",
        "plt.plot(history_dict['loss'], label='Train Loss')\n",
        "plt.plot(history_dict['val_loss'], label='Validation Loss')\n",
        "plt.title('Loss vs Epoch')\n",
        "plt.xlabel('Epoch')\n",
        "plt.ylabel('Loss')\n",
        "plt.legend()\n",
        "\n",
        "plt.tight_layout()\n",
        "plt.show()\n"
      ],
      "metadata": {
        "id": "bD45CP_sEtlA"
      },
      "execution_count": null,
      "outputs": []
    },
    {
      "cell_type": "code",
      "source": [
        "def visualize_segmentations(original_images, ground_truth_masks, predicted_masks, num_images=5):\n",
        "    plt.figure(figsize=(15, 5 * num_images))\n",
        "\n",
        "    for i in range(num_images):\n",
        "        # Original Image\n",
        "        plt.subplot(num_images, 3, i * 3 + 1)\n",
        "        plt.imshow(original_images[i], cmap='gray')\n",
        "        plt.title('Original Image')\n",
        "        plt.axis('off')\n",
        "\n",
        "        # Ground Truth Mask\n",
        "        plt.subplot(num_images, 3, i * 3 + 2)\n",
        "        plt.imshow(ground_truth_masks[i], cmap='gray')\n",
        "        plt.title('Ground Truth Mask')\n",
        "        plt.axis('off')\n",
        "\n",
        "        # Predicted Mask\n",
        "        plt.subplot(num_images, 3, i * 3 + 3)\n",
        "        plt.imshow(predicted_masks[i], cmap='gray')\n",
        "        plt.title('Predicted Mask')\n",
        "        plt.axis('off')\n",
        "\n",
        "    plt.tight_layout()\n",
        "    plt.show()"
      ],
      "metadata": {
        "id": "OICsgLYJISiY"
      },
      "execution_count": null,
      "outputs": []
    },
    {
      "cell_type": "code",
      "source": [],
      "metadata": {
        "id": "Yo06BDJDRXV3"
      },
      "execution_count": null,
      "outputs": []
    }
  ],
  "metadata": {
    "accelerator": "GPU",
    "colab": {
      "gpuType": "T4",
      "provenance": [],
      "include_colab_link": true
    },
    "kernelspec": {
      "display_name": "Python 3",
      "name": "python3"
    },
    "language_info": {
      "name": "python"
    }
  },
  "nbformat": 4,
  "nbformat_minor": 0
}